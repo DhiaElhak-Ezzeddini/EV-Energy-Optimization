{
 "cells": [
  {
   "cell_type": "code",
   "execution_count": 1,
   "id": "dcc36d2c",
   "metadata": {},
   "outputs": [],
   "source": [
    "import sys\n",
    "import os \n",
    "from Graph_Generation.src.network_gen import NetworkDatabase"
   ]
  },
  {
   "cell_type": "code",
   "execution_count": null,
   "id": "91d90b6d",
   "metadata": {},
   "outputs": [
    {
     "name": "stdout",
     "output_type": "stream",
     "text": [
      "2025-10-10 12:13:55,102 - ev_fleet.road_network_db - INFO - info:111 - 🔨 Creating new New York road network...\n",
      "2025-10-10 12:13:55,102 - ev_fleet.road_network_db - INFO - info:111 - 🧩 Creating chunked bbox network for New York State...\n",
      "2025-10-10 12:13:55,102 - ev_fleet.road_network_db - INFO - info:111 - 📍 Loading chunk 1/5: NYC Metro Area\n",
      "2025-10-10 12:23:45,828 - ev_fleet.road_network_db - INFO - info:111 -   ✅ NYC Metro Area: 290830 nodes\n",
      "2025-10-10 12:23:52,332 - ev_fleet.road_network_db - INFO - info:111 -   🔗 Total merged: 290830 nodes (1 chunks)\n",
      "2025-10-10 12:23:52,332 - ev_fleet.road_network_db - INFO - info:111 - 📍 Loading chunk 2/5: Hudson Valley & Capital Region\n"
     ]
    },
    {
     "name": "stderr",
     "output_type": "stream",
     "text": [
      "c:\\Users\\YODA\\AppData\\Local\\pypoetry\\Cache\\virtualenvs\\ev-energy-optimization-ZcLvrSXA-py3.12\\Lib\\site-packages\\osmnx\\_overpass.py:254: UserWarning: This area is 14 times your configured Overpass max query area size. It will automatically be divided up into multiple sub-queries accordingly. This may take a long time.\n",
      "  multi_poly_proj = utils_geo._consolidate_subdivide_geometry(poly_proj)\n"
     ]
    }
   ],
   "source": [
    "# Instantiate the database manager\n",
    "db = NetworkDatabase()\n",
    "\n",
    "# Get a network. This single call handles all the complex logic\n",
    "# of loading, validating, or creating a new one.\n",
    "bay_area_road_network = db.load_or_create_network()\n",
    "\n",
    "# The result is a NetworkX graph object, ready for routing\n",
    "print(f\"Network is ready with {len(bay_area_road_network.nodes())} nodes.\")"
   ]
  }
 ],
 "metadata": {
  "kernelspec": {
   "display_name": "ev-energy-optimization-ZcLvrSXA-py3.12",
   "language": "python",
   "name": "python3"
  },
  "language_info": {
   "codemirror_mode": {
    "name": "ipython",
    "version": 3
   },
   "file_extension": ".py",
   "mimetype": "text/x-python",
   "name": "python",
   "nbconvert_exporter": "python",
   "pygments_lexer": "ipython3",
   "version": "3.12.4"
  }
 },
 "nbformat": 4,
 "nbformat_minor": 5
}
